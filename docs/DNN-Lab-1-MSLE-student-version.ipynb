{
  "nbformat": 4,
  "nbformat_minor": 0,
  "metadata": {
    "kernelspec": {
      "name": "python3",
      "display_name": "Python 3"
    },
    "colab": {
      "provenance": [],
      "toc_visible": true,
      "include_colab_link": true
    },
    "widgets": {
      "application/vnd.jupyter.widget-state+json": {
        "d8eae7093bc946deb67ddd881b1a80d6": {
          "model_module": "@jupyter-widgets/controls",
          "model_name": "HBoxModel",
          "model_module_version": "1.5.0",
          "state": {
            "_dom_classes": [],
            "_model_module": "@jupyter-widgets/controls",
            "_model_module_version": "1.5.0",
            "_model_name": "HBoxModel",
            "_view_count": null,
            "_view_module": "@jupyter-widgets/controls",
            "_view_module_version": "1.5.0",
            "_view_name": "HBoxView",
            "box_style": "",
            "children": [
              "IPY_MODEL_ea6e51cd175e49c2bef7b0a08907cb03",
              "IPY_MODEL_477c0dd9db2f4604bd4568594db0bae3",
              "IPY_MODEL_ede1de00db9444f9b38dbaad28ccf0b4"
            ],
            "layout": "IPY_MODEL_0ac9323383a74ea596309ee04bd79150"
          }
        },
        "ea6e51cd175e49c2bef7b0a08907cb03": {
          "model_module": "@jupyter-widgets/controls",
          "model_name": "HTMLModel",
          "model_module_version": "1.5.0",
          "state": {
            "_dom_classes": [],
            "_model_module": "@jupyter-widgets/controls",
            "_model_module_version": "1.5.0",
            "_model_name": "HTMLModel",
            "_view_count": null,
            "_view_module": "@jupyter-widgets/controls",
            "_view_module_version": "1.5.0",
            "_view_name": "HTMLView",
            "description": "",
            "description_tooltip": null,
            "layout": "IPY_MODEL_329b11a7f2fa40489fd339155adcf5c1",
            "placeholder": "​",
            "style": "IPY_MODEL_d71316fc702848d080cfaf7c168329c5",
            "value": "  0%"
          }
        },
        "477c0dd9db2f4604bd4568594db0bae3": {
          "model_module": "@jupyter-widgets/controls",
          "model_name": "FloatProgressModel",
          "model_module_version": "1.5.0",
          "state": {
            "_dom_classes": [],
            "_model_module": "@jupyter-widgets/controls",
            "_model_module_version": "1.5.0",
            "_model_name": "FloatProgressModel",
            "_view_count": null,
            "_view_module": "@jupyter-widgets/controls",
            "_view_module_version": "1.5.0",
            "_view_name": "ProgressView",
            "bar_style": "danger",
            "description": "",
            "description_tooltip": null,
            "layout": "IPY_MODEL_079baab956c04eb1affd553814411601",
            "max": 100000,
            "min": 0,
            "orientation": "horizontal",
            "style": "IPY_MODEL_0c515f6f203c4331a3203003cd870301",
            "value": 0
          }
        },
        "ede1de00db9444f9b38dbaad28ccf0b4": {
          "model_module": "@jupyter-widgets/controls",
          "model_name": "HTMLModel",
          "model_module_version": "1.5.0",
          "state": {
            "_dom_classes": [],
            "_model_module": "@jupyter-widgets/controls",
            "_model_module_version": "1.5.0",
            "_model_name": "HTMLModel",
            "_view_count": null,
            "_view_module": "@jupyter-widgets/controls",
            "_view_module_version": "1.5.0",
            "_view_name": "HTMLView",
            "description": "",
            "description_tooltip": null,
            "layout": "IPY_MODEL_4c1cc606a9684b57a1134fcefa71aa1d",
            "placeholder": "​",
            "style": "IPY_MODEL_6eadcf93383844f2b8dcadc0624f3b13",
            "value": " 0/100000 [00:00&lt;?, ?it/s]"
          }
        },
        "0ac9323383a74ea596309ee04bd79150": {
          "model_module": "@jupyter-widgets/base",
          "model_name": "LayoutModel",
          "model_module_version": "1.2.0",
          "state": {
            "_model_module": "@jupyter-widgets/base",
            "_model_module_version": "1.2.0",
            "_model_name": "LayoutModel",
            "_view_count": null,
            "_view_module": "@jupyter-widgets/base",
            "_view_module_version": "1.2.0",
            "_view_name": "LayoutView",
            "align_content": null,
            "align_items": null,
            "align_self": null,
            "border": null,
            "bottom": null,
            "display": null,
            "flex": null,
            "flex_flow": null,
            "grid_area": null,
            "grid_auto_columns": null,
            "grid_auto_flow": null,
            "grid_auto_rows": null,
            "grid_column": null,
            "grid_gap": null,
            "grid_row": null,
            "grid_template_areas": null,
            "grid_template_columns": null,
            "grid_template_rows": null,
            "height": null,
            "justify_content": null,
            "justify_items": null,
            "left": null,
            "margin": null,
            "max_height": null,
            "max_width": null,
            "min_height": null,
            "min_width": null,
            "object_fit": null,
            "object_position": null,
            "order": null,
            "overflow": null,
            "overflow_x": null,
            "overflow_y": null,
            "padding": null,
            "right": null,
            "top": null,
            "visibility": null,
            "width": null
          }
        },
        "329b11a7f2fa40489fd339155adcf5c1": {
          "model_module": "@jupyter-widgets/base",
          "model_name": "LayoutModel",
          "model_module_version": "1.2.0",
          "state": {
            "_model_module": "@jupyter-widgets/base",
            "_model_module_version": "1.2.0",
            "_model_name": "LayoutModel",
            "_view_count": null,
            "_view_module": "@jupyter-widgets/base",
            "_view_module_version": "1.2.0",
            "_view_name": "LayoutView",
            "align_content": null,
            "align_items": null,
            "align_self": null,
            "border": null,
            "bottom": null,
            "display": null,
            "flex": null,
            "flex_flow": null,
            "grid_area": null,
            "grid_auto_columns": null,
            "grid_auto_flow": null,
            "grid_auto_rows": null,
            "grid_column": null,
            "grid_gap": null,
            "grid_row": null,
            "grid_template_areas": null,
            "grid_template_columns": null,
            "grid_template_rows": null,
            "height": null,
            "justify_content": null,
            "justify_items": null,
            "left": null,
            "margin": null,
            "max_height": null,
            "max_width": null,
            "min_height": null,
            "min_width": null,
            "object_fit": null,
            "object_position": null,
            "order": null,
            "overflow": null,
            "overflow_x": null,
            "overflow_y": null,
            "padding": null,
            "right": null,
            "top": null,
            "visibility": null,
            "width": null
          }
        },
        "d71316fc702848d080cfaf7c168329c5": {
          "model_module": "@jupyter-widgets/controls",
          "model_name": "DescriptionStyleModel",
          "model_module_version": "1.5.0",
          "state": {
            "_model_module": "@jupyter-widgets/controls",
            "_model_module_version": "1.5.0",
            "_model_name": "DescriptionStyleModel",
            "_view_count": null,
            "_view_module": "@jupyter-widgets/base",
            "_view_module_version": "1.2.0",
            "_view_name": "StyleView",
            "description_width": ""
          }
        },
        "079baab956c04eb1affd553814411601": {
          "model_module": "@jupyter-widgets/base",
          "model_name": "LayoutModel",
          "model_module_version": "1.2.0",
          "state": {
            "_model_module": "@jupyter-widgets/base",
            "_model_module_version": "1.2.0",
            "_model_name": "LayoutModel",
            "_view_count": null,
            "_view_module": "@jupyter-widgets/base",
            "_view_module_version": "1.2.0",
            "_view_name": "LayoutView",
            "align_content": null,
            "align_items": null,
            "align_self": null,
            "border": null,
            "bottom": null,
            "display": null,
            "flex": null,
            "flex_flow": null,
            "grid_area": null,
            "grid_auto_columns": null,
            "grid_auto_flow": null,
            "grid_auto_rows": null,
            "grid_column": null,
            "grid_gap": null,
            "grid_row": null,
            "grid_template_areas": null,
            "grid_template_columns": null,
            "grid_template_rows": null,
            "height": null,
            "justify_content": null,
            "justify_items": null,
            "left": null,
            "margin": null,
            "max_height": null,
            "max_width": null,
            "min_height": null,
            "min_width": null,
            "object_fit": null,
            "object_position": null,
            "order": null,
            "overflow": null,
            "overflow_x": null,
            "overflow_y": null,
            "padding": null,
            "right": null,
            "top": null,
            "visibility": null,
            "width": null
          }
        },
        "0c515f6f203c4331a3203003cd870301": {
          "model_module": "@jupyter-widgets/controls",
          "model_name": "ProgressStyleModel",
          "model_module_version": "1.5.0",
          "state": {
            "_model_module": "@jupyter-widgets/controls",
            "_model_module_version": "1.5.0",
            "_model_name": "ProgressStyleModel",
            "_view_count": null,
            "_view_module": "@jupyter-widgets/base",
            "_view_module_version": "1.2.0",
            "_view_name": "StyleView",
            "bar_color": null,
            "description_width": ""
          }
        },
        "4c1cc606a9684b57a1134fcefa71aa1d": {
          "model_module": "@jupyter-widgets/base",
          "model_name": "LayoutModel",
          "model_module_version": "1.2.0",
          "state": {
            "_model_module": "@jupyter-widgets/base",
            "_model_module_version": "1.2.0",
            "_model_name": "LayoutModel",
            "_view_count": null,
            "_view_module": "@jupyter-widgets/base",
            "_view_module_version": "1.2.0",
            "_view_name": "LayoutView",
            "align_content": null,
            "align_items": null,
            "align_self": null,
            "border": null,
            "bottom": null,
            "display": null,
            "flex": null,
            "flex_flow": null,
            "grid_area": null,
            "grid_auto_columns": null,
            "grid_auto_flow": null,
            "grid_auto_rows": null,
            "grid_column": null,
            "grid_gap": null,
            "grid_row": null,
            "grid_template_areas": null,
            "grid_template_columns": null,
            "grid_template_rows": null,
            "height": null,
            "justify_content": null,
            "justify_items": null,
            "left": null,
            "margin": null,
            "max_height": null,
            "max_width": null,
            "min_height": null,
            "min_width": null,
            "object_fit": null,
            "object_position": null,
            "order": null,
            "overflow": null,
            "overflow_x": null,
            "overflow_y": null,
            "padding": null,
            "right": null,
            "top": null,
            "visibility": null,
            "width": null
          }
        },
        "6eadcf93383844f2b8dcadc0624f3b13": {
          "model_module": "@jupyter-widgets/controls",
          "model_name": "DescriptionStyleModel",
          "model_module_version": "1.5.0",
          "state": {
            "_model_module": "@jupyter-widgets/controls",
            "_model_module_version": "1.5.0",
            "_model_name": "DescriptionStyleModel",
            "_view_count": null,
            "_view_module": "@jupyter-widgets/base",
            "_view_module_version": "1.2.0",
            "_view_name": "StyleView",
            "description_width": ""
          }
        }
      }
    }
  },
  "cells": [
    {
      "cell_type": "markdown",
      "metadata": {
        "id": "view-in-github",
        "colab_type": "text"
      },
      "source": [
        "<a href=\"https://colab.research.google.com/github/piotrbar250/DNN-MIMUW-2025/blob/main/docs/DNN-Lab-1-MSLE-student-version.ipynb\" target=\"_parent\"><img src=\"https://colab.research.google.com/assets/colab-badge.svg\" alt=\"Open In Colab\"/></a>"
      ]
    },
    {
      "cell_type": "markdown",
      "source": [
        "<center><img src='https://drive.google.com/uc?id=1_utx_ZGclmCwNttSe40kYA6VHzNocdET' height=\"60\"></center>\n",
        "\n",
        "AI TECH - Akademia Innowacyjnych Zastosowań Technologii Cyfrowych. Program Operacyjny Polska Cyfrowa na lata 2014-2020\n",
        "<hr>\n",
        "\n",
        "<center><img src='https://drive.google.com/uc?id=1BXZ0u3562N_MqCLcekI-Ens77Kk4LpPm'></center>\n",
        "\n",
        "<center>\n",
        "Projekt współfinansowany ze środków Unii Europejskiej w ramach Europejskiego Funduszu Rozwoju Regionalnego\n",
        "Program Operacyjny Polska Cyfrowa na lata 2014-2020,\n",
        "Oś Priorytetowa nr 3 \"Cyfrowe kompetencje społeczeństwa\" Działanie  nr 3.2 \"Innowacyjne rozwiązania na rzecz aktywizacji cyfrowej\"\n",
        "Tytuł projektu:  „Akademia Innowacyjnych Zastosowań Technologii Cyfrowych (AI Tech)”\n",
        "    </center>"
      ],
      "metadata": {
        "id": "Y676Rk9vA52c"
      }
    },
    {
      "cell_type": "markdown",
      "metadata": {
        "id": "VqdiMxZx-EoD"
      },
      "source": [
        "# Linear regression\n",
        "\n",
        "In this exercise, you will use linear regression to predict flat (apartment) prices. Training will be handled via gradient descent. We will:\n",
        "* have multiple features (i.e. variables used to make the prediction),\n",
        "* employ some basic feature engineering,\n",
        "* work with a non-standard loss function.\n",
        "\n",
        "Let's start by obtaining the data."
      ]
    },
    {
      "cell_type": "code",
      "metadata": {
        "id": "yI9wFXv5-EoP",
        "outputId": "69236181-87ed-452d-f8b8-18a54b790143",
        "colab": {
          "base_uri": "https://localhost:8080/"
        }
      },
      "source": [
        "!wget --no-verbose -O mieszkania.csv https://www.dropbox.com/s/zey0gx91pna8irj/mieszkania.csv?dl=1\n",
        "!wget --no-verbose -O mieszkania_test.csv https://www.dropbox.com/s/dbrj6sbxb4ayqjz/mieszkania_test.csv?dl=1\n",
        "!head mieszkania.csv mieszkania_test.csv"
      ],
      "execution_count": 2,
      "outputs": [
        {
          "output_type": "stream",
          "name": "stdout",
          "text": [
            "2025-10-10 08:52:02 URL:https://uc739922ef8264bc0d0059c9d95d.dl.dropboxusercontent.com/cd/0/inline/Cy-wb1kyARdcJqlmcrN7KDdEF053ZPz8YZYMp0WddNX_1z_kX5asdWZCV2uapaDTCj-oGnWaDHNm2EudFEIxZXzz0FKeEw3fRge1NJrwpKTRCFxXicnYOezSL8A8RlpIcgA/file?dl=1 [6211/6211] -> \"mieszkania.csv\" [1]\n",
            "2025-10-10 08:52:03 URL:https://ucae7459f26efd20401ac3bb98d8.dl.dropboxusercontent.com/cd/0/inline/Cy-ngtTFnZZWlD8eyExAhDXG9WCvqr_01ZX4mN-bhl7Jt3Abt7whh6-c6hYE9HkdoY9GLOILv4tcUXqIXgBivwRUcr6aOcCErmOawGmhCFFgRJOGWoC_yomW5CQfcnlDoBA/file?dl=1 [6247/6247] -> \"mieszkania_test.csv\" [1]\n",
            "==> mieszkania.csv <==\n",
            "m2,dzielnica,ilość_sypialni,ilość_łazienek,rok_budowy,parking_podziemny,cena\n",
            "104,mokotowo,2,2,1940,1,780094\n",
            "43,ochotowo,1,1,1970,1,346912\n",
            "128,grodziskowo,3,2,1916,1,523466\n",
            "112,mokotowo,3,2,1920,1,830965\n",
            "149,mokotowo,3,3,1977,0,1090479\n",
            "80,ochotowo,2,2,1937,0,599060\n",
            "58,ochotowo,2,1,1922,0,463639\n",
            "23,ochotowo,1,1,1929,0,166785\n",
            "40,mokotowo,1,1,1973,0,318849\n",
            "\n",
            "==> mieszkania_test.csv <==\n",
            "m2,dzielnica,ilość_sypialni,ilość_łazienek,rok_budowy,parking_podziemny,cena\n",
            "71,wolowo,2,2,1912,1,322227\n",
            "45,mokotowo,1,1,1938,0,295878\n",
            "38,mokotowo,1,1,1999,1,306530\n",
            "70,ochotowo,2,2,1980,1,553641\n",
            "136,mokotowo,3,2,1939,1,985348\n",
            "128,wolowo,3,2,1983,1,695726\n",
            "23,grodziskowo,1,1,1975,0,99751\n",
            "117,mokotowo,3,2,1942,0,891261\n",
            "65,ochotowo,2,1,2002,1,536499\n"
          ]
        }
      ]
    },
    {
      "cell_type": "markdown",
      "metadata": {
        "id": "iH8Ut02G-EoU"
      },
      "source": [
        "Each row in the data represents a separate flat. Our goal is to use the data from `mieszkania.csv` to create a model that can predict a flat's price (i.e. `cena`) given its features (i.e. `m2,dzielnica,ilosc_sypialni,...`).\n",
        "\n",
        "We should use only `mieszkania.csv` (dubbed the training dataset) to make our decisions and create the model. The (only) purpose of `mieszkania_test.csv` is to test our model on **unseen** data."
      ]
    },
    {
      "cell_type": "code",
      "source": [
        "!head mieszkania.csv mieszkania_test.csv"
      ],
      "metadata": {
        "colab": {
          "base_uri": "https://localhost:8080/"
        },
        "id": "qunUEwoeMPOc",
        "outputId": "d9ad7d4b-a45a-444c-b43d-7e3b25b56dce"
      },
      "execution_count": 3,
      "outputs": [
        {
          "output_type": "stream",
          "name": "stdout",
          "text": [
            "==> mieszkania.csv <==\n",
            "m2,dzielnica,ilość_sypialni,ilość_łazienek,rok_budowy,parking_podziemny,cena\n",
            "104,mokotowo,2,2,1940,1,780094\n",
            "43,ochotowo,1,1,1970,1,346912\n",
            "128,grodziskowo,3,2,1916,1,523466\n",
            "112,mokotowo,3,2,1920,1,830965\n",
            "149,mokotowo,3,3,1977,0,1090479\n",
            "80,ochotowo,2,2,1937,0,599060\n",
            "58,ochotowo,2,1,1922,0,463639\n",
            "23,ochotowo,1,1,1929,0,166785\n",
            "40,mokotowo,1,1,1973,0,318849\n",
            "\n",
            "==> mieszkania_test.csv <==\n",
            "m2,dzielnica,ilość_sypialni,ilość_łazienek,rok_budowy,parking_podziemny,cena\n",
            "71,wolowo,2,2,1912,1,322227\n",
            "45,mokotowo,1,1,1938,0,295878\n",
            "38,mokotowo,1,1,1999,1,306530\n",
            "70,ochotowo,2,2,1980,1,553641\n",
            "136,mokotowo,3,2,1939,1,985348\n",
            "128,wolowo,3,2,1983,1,695726\n",
            "23,grodziskowo,1,1,1975,0,99751\n",
            "117,mokotowo,3,2,1942,0,891261\n",
            "65,ochotowo,2,1,2002,1,536499\n"
          ]
        }
      ]
    },
    {
      "cell_type": "code",
      "source": [
        "%matplotlib inline\n",
        "\n",
        "from typing import Any\n",
        "\n",
        "import matplotlib.pyplot as plt\n",
        "import numpy as np\n",
        "import pandas as pd\n",
        "from sklearn.preprocessing import LabelEncoder, OneHotEncoder, StandardScaler\n",
        "from tqdm.auto import tqdm\n",
        "\n",
        "NDArray = np.ndarray[Any, Any]\n",
        "\n",
        "np.set_printoptions(precision=4, suppress=True)\n",
        "np.random.seed(357)"
      ],
      "metadata": {
        "id": "r_F0mDKdWNp4"
      },
      "execution_count": 4,
      "outputs": []
    },
    {
      "cell_type": "markdown",
      "source": [
        "## Loading and converting data\n",
        "\n",
        "Let's start by loading the data and showing the range of prices we're working with."
      ],
      "metadata": {
        "id": "O4eyhKJKom2s"
      }
    },
    {
      "cell_type": "code",
      "source": [
        "def load(path: str) -> tuple[NDArray, NDArray]:\n",
        "    \"\"\"\n",
        "    Returns (x, y) where:\n",
        "    - x: input features, shape (n_apartments, n_features)\n",
        "    - y: price, shape (n_apartments,)\n",
        "    \"\"\"\n",
        "    data = pd.read_csv(path)\n",
        "    y = data[\"cena\"].to_numpy()\n",
        "    x = data.loc[:, data.columns != \"cena\"].to_numpy()\n",
        "    return x, y"
      ],
      "metadata": {
        "id": "NjwPnwzoWNs9"
      },
      "execution_count": 5,
      "outputs": []
    },
    {
      "cell_type": "code",
      "source": [
        "x_train, y_train = load(\"mieszkania.csv\")\n",
        "x_test, y_test = load(\"mieszkania_test.csv\")\n",
        "\n",
        "print(x_train.shape, y_train.shape)\n",
        "print(x_test.shape, y_test.shape)"
      ],
      "metadata": {
        "id": "rg-nV6_1WRk6",
        "colab": {
          "base_uri": "https://localhost:8080/"
        },
        "outputId": "421ad0f9-95cd-41bd-81e9-6c277795530e"
      },
      "execution_count": 6,
      "outputs": [
        {
          "output_type": "stream",
          "name": "stdout",
          "text": [
            "(200, 6) (200,)\n",
            "(200, 6) (200,)\n"
          ]
        }
      ]
    },
    {
      "cell_type": "code",
      "source": [
        "x_train[0]\n",
        "y_train[0]"
      ],
      "metadata": {
        "colab": {
          "base_uri": "https://localhost:8080/"
        },
        "id": "Dl4XC68QNR8M",
        "outputId": "ad35aa25-2a93-439e-b1aa-42fa8d9461e3"
      },
      "execution_count": 7,
      "outputs": [
        {
          "output_type": "execute_result",
          "data": {
            "text/plain": [
              "np.int64(780094)"
            ]
          },
          "metadata": {},
          "execution_count": 7
        }
      ]
    },
    {
      "cell_type": "code",
      "source": [
        "print(np.min(y_train), np.max(y_train), np.mean(y_train))"
      ],
      "metadata": {
        "colab": {
          "base_uri": "https://localhost:8080/"
        },
        "id": "tx5b_IpiZBNi",
        "outputId": "972c04fe-cb59-46db-dbb5-ef995a58155c"
      },
      "execution_count": 8,
      "outputs": [
        {
          "output_type": "stream",
          "name": "stdout",
          "text": [
            "102572 1102309 507919.49\n"
          ]
        }
      ]
    },
    {
      "cell_type": "code",
      "source": [
        "x_train[:3]"
      ],
      "metadata": {
        "colab": {
          "base_uri": "https://localhost:8080/"
        },
        "id": "X_oE2g2Yc9rt",
        "outputId": "e08fcf17-57a5-4a48-8ab9-51078ff56cd4"
      },
      "execution_count": 9,
      "outputs": [
        {
          "output_type": "execute_result",
          "data": {
            "text/plain": [
              "array([[104, 'mokotowo', 2, 2, 1940, 1],\n",
              "       [43, 'ochotowo', 1, 1, 1970, 1],\n",
              "       [128, 'grodziskowo', 3, 2, 1916, 1]], dtype=object)"
            ]
          },
          "metadata": {},
          "execution_count": 9
        }
      ]
    },
    {
      "cell_type": "markdown",
      "source": [
        "We'll need to convert features to floats."
      ],
      "metadata": {
        "id": "Js0uXZK-c_NA"
      }
    },
    {
      "cell_type": "code",
      "source": [
        "# Convert column 1 from str to (ordinal) int.\n",
        "# (One-hot encoding would be better, but ordinal is OK for today.)\n",
        "label_encoder = LabelEncoder()\n",
        "label_encoder.fit(x_train[:, 1])\n",
        "x_train[:, 1] = label_encoder.transform(x_train[:, 1])\n",
        "x_test[:, 1] = label_encoder.transform(x_test[:, 1])\n",
        "\n",
        "# Convert ints to float.\n",
        "x_train = x_train.astype(np.float64)\n",
        "x_test = x_test.astype(np.float64)"
      ],
      "metadata": {
        "id": "QVTpIDKuWRq6"
      },
      "execution_count": 10,
      "outputs": []
    },
    {
      "cell_type": "code",
      "source": [
        "x_train[:3]"
      ],
      "metadata": {
        "colab": {
          "base_uri": "https://localhost:8080/"
        },
        "id": "ggvlLt-Tc3bX",
        "outputId": "d83f0780-1d39-4534-bfb5-23ef5613577f"
      },
      "execution_count": 11,
      "outputs": [
        {
          "output_type": "execute_result",
          "data": {
            "text/plain": [
              "array([[ 104.,    1.,    2.,    2., 1940.,    1.],\n",
              "       [  43.,    2.,    1.,    1., 1970.,    1.],\n",
              "       [ 128.,    0.,    3.,    2., 1916.,    1.]])"
            ]
          },
          "metadata": {},
          "execution_count": 11
        }
      ]
    },
    {
      "cell_type": "markdown",
      "metadata": {
        "id": "y8QX6Ncr-EoW"
      },
      "source": [
        "## The loss and constant models\n",
        "\n",
        "Our predictions should minimize the so-called *mean squared logarithmic error*:\n",
        "$$\n",
        "MSLE = \\frac{1}{n} \\sum_{i=1}^n (\\log(1+y_i) - \\log(1+p_i))^2,\n",
        "$$\n",
        "where $y_i$ is the ground truth, and $p_i$ is our prediction.\n",
        "\n",
        "Let's implement the loss function first."
      ]
    },
    {
      "cell_type": "code",
      "source": [
        "def mse(ys: NDArray, ps: NDArray) -> np.float64:\n",
        "    assert ys.shape == ps.shape\n",
        "    # return np.mean((ys - ps) * (ys - ps))\n",
        "    return np.mean((ys - ps) ** 2)"
      ],
      "metadata": {
        "id": "3tjQSlPgWXRN"
      },
      "execution_count": 12,
      "outputs": []
    },
    {
      "cell_type": "code",
      "metadata": {
        "id": "JAiB8S9A-EoX"
      },
      "source": [
        "def msle(ys: NDArray, ps: NDArray) -> np.float64:\n",
        "    assert ys.shape == ps.shape\n",
        "    #################################\n",
        "    # TODO: Implement this function #\n",
        "    #################################\n",
        "    return np.mean((np.log(1 + ys) - np.log(1 + ps)) ** 2)"
      ],
      "execution_count": 13,
      "outputs": []
    },
    {
      "cell_type": "markdown",
      "metadata": {
        "id": "zAmd2qLR-Eob"
      },
      "source": [
        "The simplest model is predicting the same constant for each instance. Test your implementation of msle against outputing the mean price."
      ]
    },
    {
      "cell_type": "code",
      "metadata": {
        "id": "b0RT7VW7-Eoc",
        "colab": {
          "base_uri": "https://localhost:8080/"
        },
        "outputId": "08a90976-69e9-45bd-ef3b-99e544c91faf"
      },
      "source": [
        "###################################################\n",
        "# TODO: Compute msle for outputing the mean price #\n",
        "###################################################\n",
        "\n",
        "mean_price = np.mean(y_train)\n",
        "mse(y_train, np.zeros_like(y_train) + mean_price)\n",
        "msle(y_train, np.zeros_like(y_train) + mean_price)\n",
        "msle(y_test, np.zeros_like(y_test) + mean_price)"
      ],
      "execution_count": 14,
      "outputs": [
        {
          "output_type": "execute_result",
          "data": {
            "text/plain": [
              "np.float64(0.4284115392580848)"
            ]
          },
          "metadata": {},
          "execution_count": 14
        }
      ]
    },
    {
      "cell_type": "markdown",
      "metadata": {
        "id": "a0zMmTiv-Eof"
      },
      "source": [
        "Recall that outputing the mean minimizes $MSE$. However, we're now dealing with $MSLE$.\n",
        "\n",
        "Think of a constant that should result in the lowest $MSLE$."
      ]
    },
    {
      "cell_type": "code",
      "metadata": {
        "id": "Q0Z4drNd-Eog",
        "colab": {
          "base_uri": "https://localhost:8080/",
          "height": 466
        },
        "outputId": "a678a773-ac21-463d-9926-2a9b7d580776"
      },
      "source": [
        "#############################################\n",
        "# TODO: Find this constant and compute msle #\n",
        "#############################################\n",
        "\n",
        "#find c such that msle(y_train, c)\n",
        "#msle(y,c) = mse(f(y), f(c)) gdzie f(y) = log(1+y)\n",
        "#find d minimizing mse(f(y), d)\n",
        "#d=np.mean(f(y)) = np.mean(log(1+y))\n",
        "#f = f(c) = log(1+c)\n",
        "#log(1+c) = np.mean(log(1+y))\n",
        "#c = exp(d) -1\n",
        "\n",
        "#c = exp(np.mean(np.log(1+y))) - 1\n",
        "\n",
        "def example_plot():\n",
        "  costs = np.linspace(np.min(y_train), np.max(y_train), 100)\n",
        "  losses = []\n",
        "  for c in costs:\n",
        "    losses.append(msle(y_train, np.zeros_like(y_train) + c))\n",
        "\n",
        "  best_cost = costs[np.argmin(losses)]\n",
        "  best_loss = np.min(losses)\n",
        "\n",
        "  plt.plot(costs, losses)\n",
        "  plt.plot([best_cost], best_loss)\n",
        "\n",
        "  print(best_cost, best_loss)\n",
        "  minimizer = np.exp(np.mean(np.log(1+y_train)))\n",
        "\n",
        "example_plot()\n"
      ],
      "execution_count": 15,
      "outputs": [
        {
          "output_type": "stream",
          "name": "stdout",
          "text": [
            "435817.6666666667 0.3649917421472992\n"
          ]
        },
        {
          "output_type": "display_data",
          "data": {
            "text/plain": [
              "<Figure size 640x480 with 1 Axes>"
            ],
            "image/png": "[encoded data removed]"
          },
          "metadata": {}
        }
      ]
    },
    {
      "cell_type": "code",
      "source": [
        "np.zeros_like(np.array([1,2]))"
      ],
      "metadata": {
        "colab": {
          "base_uri": "https://localhost:8080/"
        },
        "id": "im0iE-ureO3f",
        "outputId": "1623765e-c707-4c9c-cf75-e3d272985251"
      },
      "execution_count": 16,
      "outputs": [
        {
          "output_type": "execute_result",
          "data": {
            "text/plain": [
              "array([0, 0])"
            ]
          },
          "metadata": {},
          "execution_count": 16
        }
      ]
    },
    {
      "cell_type": "markdown",
      "metadata": {
        "id": "2RdHlBw8-Eoi"
      },
      "source": [
        "## Linear regression (standard)\n",
        "\n",
        "Now, let's implement training of a standard linear regression model via gradient descent."
      ]
    },
    {
      "cell_type": "code",
      "source": [
        "#my own\n",
        "def train(\n",
        "    x: NDArray, y: NDArray, alpha: float = 1e-7, n_iterations: int = 100000\n",
        ") -> tuple[NDArray, np.float64]:\n",
        "\n",
        "  print(x.shape)\n",
        "  # B is number of observations (batchsize)\n",
        "  # F is number of features\n",
        "  B, F = x.shape\n",
        "  weights = np.random.uniform(size=(F,), low=-1/np.sqrt(F), high=1/np.sqrt(F))\n",
        "  bias = float(np.mean(y))\n",
        "\n",
        "  for _ in range(n_iterations):\n",
        "    preds = x @ weights + bias\n",
        "    grad_preds = -(2/B) * (y - preds)\n",
        "    grad_bias = np.sum(grad_preds)\n",
        "    grad_weights = x.T @ grad_preds\n",
        "\n",
        "    weights -= alpha * grad_weights\n",
        "    bias -= alpha * grad_bias\n",
        "\n",
        "  return weights, bias\n",
        "\n",
        "\n",
        "weights, bias = train(x_train, y_train)\n",
        "# @ - matmul\n",
        "preds_test = x_test @ weights + bias # Multiply (B, F) @ (F, ) + (1,)\n",
        "print(\"test MSLE:\", mse(y_test, preds_test))\n"
      ],
      "metadata": {
        "colab": {
          "base_uri": "https://localhost:8080/"
        },
        "id": "NxKRA27rBZhF",
        "outputId": "a8cdaa30-b809-40a3-f06b-60978f65a6b5"
      },
      "execution_count": 27,
      "outputs": [
        {
          "output_type": "stream",
          "name": "stdout",
          "text": [
            "(200, 6)\n",
            "test MSLE: 18455227446.17277\n"
          ]
        }
      ]
    },
    {
      "cell_type": "code",
      "metadata": {
        "id": "Vn97D3vd-Eoj",
        "colab": {
          "base_uri": "https://localhost:8080/",
          "height": 373,
          "referenced_widgets": [
            "d8eae7093bc946deb67ddd881b1a80d6",
            "ea6e51cd175e49c2bef7b0a08907cb03",
            "477c0dd9db2f4604bd4568594db0bae3",
            "ede1de00db9444f9b38dbaad28ccf0b4",
            "0ac9323383a74ea596309ee04bd79150",
            "329b11a7f2fa40489fd339155adcf5c1",
            "d71316fc702848d080cfaf7c168329c5",
            "079baab956c04eb1affd553814411601",
            "0c515f6f203c4331a3203003cd870301",
            "4c1cc606a9684b57a1134fcefa71aa1d",
            "6eadcf93383844f2b8dcadc0624f3b13"
          ]
        },
        "outputId": "a5e2f848-1f48-4a4d-f216-3726cda7060e"
      },
      "source": [
        "def train(\n",
        "    x: NDArray, y: NDArray, alpha: float = 1e-7, n_iterations: int = 100000\n",
        ") -> tuple[NDArray, np.float64]:\n",
        "    \"\"\"Linear regression (which optimizes MSE). Returns (weights, bias).\"\"\"\n",
        "\n",
        "    # B is batch size (number of observations).\n",
        "    # F is number of (input) features.\n",
        "    B, F = x.shape\n",
        "    assert y.shape == (B,)\n",
        "\n",
        "    # TODO #\n",
        "\n",
        "    weights = np.random.uniform(size=(F,), low=-1/np.sqrt(F), high=1/np.sqrt(F))\n",
        "    # biases = 0\n",
        "    biases = np.mean(y)\n",
        "\n",
        "    for _ in tqdm(range(n_iterations)):\n",
        "      preds = x_train @ weights + bias\n",
        "      loss = mse(y_train, preds)\n",
        "\n",
        "\n",
        "\n",
        "      # weights   -= alpha * grad_weights loss\n",
        "      # bias       -= alpha * grad_bias loss\n",
        "\n",
        "      # grad_(pred_i) mse(y_train, preds) = 1/N ((y[i] - pred_i)**2 + ...)\n",
        "      # grad_(pred_i) mse(y_train, preds) = (2 / B) * (y - preds[i]) (-1)\n",
        "\n",
        "      #grad_bias mse(y, preds) = sum_i grad_bias pred_i * grad_(preds_i) mse(y.preds) # chainrule!\n",
        "      #                        = sum_i 1 *\n",
        "\n",
        "      #                        pred_i = sum_j w_j * x_ij + bias\n",
        "\n",
        "      #grad_(w_j)              = sum_i grad_(w_j) pred_i * ...\n",
        "      #\n",
        "\n",
        "      grad_preds = -(2 / B ) * (y_train - preds) # shape(B,)\n",
        "      grad_bias = np.sum(grad_preds) # scalar\n",
        "\n",
        "      grad_weights = x_train.T @ grad_preds # (F, B) @ (B,) = shape(F,)\n",
        "\n",
        "      weights -= alpha * grad_weights\n",
        "      bias -= alpha * grad_bias\n",
        "\n",
        "    return weights, biases\n",
        "\n",
        "\n",
        "\n",
        "weights, bias = train(x_train, y_train)\n",
        "# @ - matmul\n",
        "preds_test = x_train @ weights + bias # Multiply (B, F) @ (F, ) + (1,)\n",
        "print(\"test MSLE:\", msle(y_test, preds_test))"
      ],
      "execution_count": 25,
      "outputs": [
        {
          "output_type": "display_data",
          "data": {
            "text/plain": [
              "  0%|          | 0/100000 [00:00<?, ?it/s]"
            ],
            "application/vnd.jupyter.widget-view+json": {
              "version_major": 2,
              "version_minor": 0,
              "model_id": "d8eae7093bc946deb67ddd881b1a80d6"
            }
          },
          "metadata": {}
        },
        {
          "output_type": "error",
          "ename": "UnboundLocalError",
          "evalue": "cannot access local variable 'bias' where it is not associated with a value",
          "traceback": [
            "\u001b[0;31m---------------------------------------------------------------------------\u001b[0m",
            "\u001b[0;31mUnboundLocalError\u001b[0m                         Traceback (most recent call last)",
            "\u001b[0;32m/tmp/ipython-input-2702994893.py\u001b[0m in \u001b[0;36m<cell line: 0>\u001b[0;34m()\u001b[0m\n\u001b[1;32m     47\u001b[0m \u001b[0;34m\u001b[0m\u001b[0m\n\u001b[1;32m     48\u001b[0m \u001b[0;34m\u001b[0m\u001b[0m\n\u001b[0;32m---> 49\u001b[0;31m \u001b[0mweights\u001b[0m\u001b[0;34m,\u001b[0m \u001b[0mbias\u001b[0m \u001b[0;34m=\u001b[0m \u001b[0mtrain\u001b[0m\u001b[0;34m(\u001b[0m\u001b[0mx_train\u001b[0m\u001b[0;34m,\u001b[0m \u001b[0my_train\u001b[0m\u001b[0;34m)\u001b[0m\u001b[0;34m\u001b[0m\u001b[0;34m\u001b[0m\u001b[0m\n\u001b[0m\u001b[1;32m     50\u001b[0m \u001b[0;31m# @ - matmul\u001b[0m\u001b[0;34m\u001b[0m\u001b[0;34m\u001b[0m\u001b[0m\n\u001b[1;32m     51\u001b[0m \u001b[0mpreds_test\u001b[0m \u001b[0;34m=\u001b[0m \u001b[0mx_train\u001b[0m \u001b[0;34m@\u001b[0m \u001b[0mweights\u001b[0m \u001b[0;34m+\u001b[0m \u001b[0mbias\u001b[0m \u001b[0;31m# Multiply (B, F) @ (F, ) + (1,)\u001b[0m\u001b[0;34m\u001b[0m\u001b[0;34m\u001b[0m\u001b[0m\n",
            "\u001b[0;32m/tmp/ipython-input-2702994893.py\u001b[0m in \u001b[0;36mtrain\u001b[0;34m(x, y, alpha, n_iterations)\u001b[0m\n\u001b[1;32m     16\u001b[0m \u001b[0;34m\u001b[0m\u001b[0m\n\u001b[1;32m     17\u001b[0m     \u001b[0;32mfor\u001b[0m \u001b[0m_\u001b[0m \u001b[0;32min\u001b[0m \u001b[0mtqdm\u001b[0m\u001b[0;34m(\u001b[0m\u001b[0mrange\u001b[0m\u001b[0;34m(\u001b[0m\u001b[0mn_iterations\u001b[0m\u001b[0;34m)\u001b[0m\u001b[0;34m)\u001b[0m\u001b[0;34m:\u001b[0m\u001b[0;34m\u001b[0m\u001b[0;34m\u001b[0m\u001b[0m\n\u001b[0;32m---> 18\u001b[0;31m       \u001b[0mpreds\u001b[0m \u001b[0;34m=\u001b[0m \u001b[0mx_train\u001b[0m \u001b[0;34m@\u001b[0m \u001b[0mweights\u001b[0m \u001b[0;34m+\u001b[0m \u001b[0mbias\u001b[0m\u001b[0;34m\u001b[0m\u001b[0;34m\u001b[0m\u001b[0m\n\u001b[0m\u001b[1;32m     19\u001b[0m       \u001b[0mloss\u001b[0m \u001b[0;34m=\u001b[0m \u001b[0mmse\u001b[0m\u001b[0;34m(\u001b[0m\u001b[0my_train\u001b[0m\u001b[0;34m,\u001b[0m \u001b[0mpreds\u001b[0m\u001b[0;34m)\u001b[0m\u001b[0;34m\u001b[0m\u001b[0;34m\u001b[0m\u001b[0m\n\u001b[1;32m     20\u001b[0m \u001b[0;34m\u001b[0m\u001b[0m\n",
            "\u001b[0;31mUnboundLocalError\u001b[0m: cannot access local variable 'bias' where it is not associated with a value"
          ]
        }
      ]
    },
    {
      "cell_type": "markdown",
      "source": [
        "## Linear regression (MSLE)"
      ],
      "metadata": {
        "id": "cfMn93ejteWt"
      }
    },
    {
      "cell_type": "markdown",
      "metadata": {
        "id": "nzrrOte5-Eol"
      },
      "source": [
        "Note that the loss function that the algorithms optimizes (i.e $MSE$) differs from $MSLE$. We've already seen that this may result in a suboptimal solution.\n",
        "\n",
        "How can you change the setting so that we optimze $MSLE$ instead?"
      ]
    },
    {
      "cell_type": "markdown",
      "metadata": {
        "id": "qVD8kWEJ-Eom"
      },
      "source": [
        "Hint:\n",
        "<sub><sup><sub><sup><sub><sup>\n",
        "Be lazy. We don't want to change the algorithm.\n",
        "Use the chain rule and previous computations to get formulas for the gradient.\n",
        "</sup></sub></sup></sub></sup></sub>"
      ]
    },
    {
      "cell_type": "code",
      "metadata": {
        "id": "MniIPMg8-Eom",
        "outputId": "8f998e33-b644-4884-87fc-abd916adfc8c",
        "colab": {
          "base_uri": "https://localhost:8080/",
          "height": 108
        }
      },
      "source": [
        "def train_msle(\n",
        "    x: NDArray, y: NDArray, alpha: float = 1e+4, n_iterations: int = 50000\n",
        ") -> tuple[NDArray, NDArray]:\n",
        "    \"\"\"Gradient descent for MSLE.\"\"\"\n",
        "    B, F = x.shape\n",
        "    assert y.shape == (B,)\n",
        "\n",
        "    #############################################\n",
        "    # TODO: Optimize msle and compare the error #\n",
        "    #############################################\n",
        "    weights = np.random.uniform(size=(F,), low=-1/np.sqrt(F), high=1/np.sqrt(F))\n",
        "    # biases = 0\n",
        "    biases = np.mean(y)\n",
        "\n",
        "    for _ in tqdm(range(n_iterations)):\n",
        "      preds = x_train @ weights + bias\n",
        "      loss = mse(y_train, preds)\n",
        "\n",
        "      #f(y) = log(y+1)\n",
        "      # grad_(pred_i) msle(y_train, preds) = grad_predsi mse(f(y), f(pred))\n",
        "      # = grad_p f(p[i]) * grads_z mse(f(y), z) w punkcie z  = f(p)\n",
        "      # = 1 / (y + 1) * (2/B) * 2 * (f(y[i] - f(p[i])) (-1)\n",
        "\n",
        "      grad_preds = -(2 / B ) * (1 / (y_train+1)) * (np.log(y_train+1) - np.log(preds+1))\n",
        "\n",
        "      # grad_(pred_i) mse(y_train, preds) = (2 / B) * (y - preds[i]) (-1)\n",
        "\n",
        "      #grad_bias mse(y, preds) = sum_i grad_bias pred_i * grad_(preds_i) mse(y.preds) # chainrule!\n",
        "      #                        = sum_i 1 *\n",
        "\n",
        "      #                        pred_i = sum_j w_j * x_ij + bias\n",
        "\n",
        "      #grad_(w_j)              = sum_i grad_(w_j) pred_i * ...\n",
        "      #\n",
        "\n",
        "      grad_bias = np.sum(grad_preds) # scalar\n",
        "\n",
        "      grad_weights = x_train.T @ grad_preds # (F, B) @ (B,) = shape(F,)\n",
        "\n",
        "      weights -= alpha * grad_weights\n",
        "      bias -= alpha * grad_bias\n",
        "\n",
        "    return weights, biases\n",
        "\n",
        "\n",
        "weights, bias = train_msle(x_train, y_train)\n",
        "preds_test =  # TODO #\n",
        "print(\"test MSLE: \", msle(y_test, preds_test))\n",
        "\n",
        "#gradient sredniej kwadrowej jaki on wychodzi"
      ],
      "execution_count": null,
      "outputs": [
        {
          "output_type": "error",
          "ename": "SyntaxError",
          "evalue": "invalid syntax (ipython-input-3866069702.py, line 23)",
          "traceback": [
            "\u001b[0;36m  File \u001b[0;32m\"/tmp/ipython-input-3866069702.py\"\u001b[0;36m, line \u001b[0;32m23\u001b[0m\n\u001b[0;31m    preds_test =  # TODO #\u001b[0m\n\u001b[0m                  ^\u001b[0m\n\u001b[0;31mSyntaxError\u001b[0m\u001b[0;31m:\u001b[0m invalid syntax\n"
          ]
        }
      ]
    },
    {
      "cell_type": "markdown",
      "source": [
        "## Feature engineering"
      ],
      "metadata": {
        "id": "7yfrbDbDrTns"
      }
    },
    {
      "cell_type": "markdown",
      "metadata": {
        "id": "OvWrBkLu-Eoo"
      },
      "source": [
        "Without any feature engineering our model approximates the price as a linear combination of original features:\n",
        "$$\n",
        "\\text{price} \\approx w_1 \\cdot \\text{area} + w_2 \\cdot \\text{district} + \\dots.\n",
        "$$\n",
        "Let's now introduce some interactions between the variables. For instance, let's consider a following formula:\n",
        "$$\n",
        "\\text{price} \\approx w_1 \\cdot \\text{area} \\cdot \\text{avg. price in the district per sq. meter} + w_2 \\cdot \\dots + \\dots.\n",
        "$$\n",
        "Here, we model the price with far greater granularity, and we may expect to see more acurate results."
      ]
    },
    {
      "cell_type": "markdown",
      "metadata": {
        "id": "zBM60E7t-Eop"
      },
      "source": [
        "Add some feature engineering to your model. Be sure to play with the data and not with the algorithm's code.\n",
        "\n",
        "Think how to make sure that your model is capable of capturing the $w_1 \\cdot \\text{area} \\cdot \\text{avg. price...}$ part, without actually computing the averages.\n",
        "\n",
        "Note that you may need to change the learning rate substantially."
      ]
    },
    {
      "cell_type": "markdown",
      "metadata": {
        "id": "XT5DziNC-Eoq"
      },
      "source": [
        "Hint:\n",
        "<sub><sup><sub><sup><sub><sup>\n",
        "Is having a binary encoding for each district and multiplying it by area enough?\n",
        "</sup></sub></sup></sub></sup></sub>"
      ]
    },
    {
      "cell_type": "markdown",
      "metadata": {
        "id": "PKOVCHNz-Eor"
      },
      "source": [
        "Hint 2:\n",
        "<sub><sup><sub><sup><sub><sup>\n",
        "Why not multiply everything together? I.e. (A,B,C) -> (AB,AC,BC).\n",
        "</sup></sub></sup></sub></sup></sub>"
      ]
    },
    {
      "cell_type": "code",
      "source": [
        "###############################################\n",
        "# TODO: Implement the feature engineering part #\n",
        "###############################################"
      ],
      "metadata": {
        "id": "IgfbFqwgEXdf"
      },
      "execution_count": null,
      "outputs": []
    },
    {
      "cell_type": "code",
      "metadata": {
        "id": "v2Lj1TPr-Eot"
      },
      "source": [
        "##############################################################\n",
        "# TODO: Test your solution on the training and test datasets #\n",
        "##############################################################"
      ],
      "execution_count": null,
      "outputs": []
    },
    {
      "cell_type": "markdown",
      "source": [
        "# Validation"
      ],
      "metadata": {
        "id": "vdlipjGexuWl"
      }
    },
    {
      "cell_type": "markdown",
      "source": [
        "In this exercise you will implement a validation pipeline: split the non-test set into train and validation sets and select the best model based on validation results.\n",
        "\n",
        "So far you tested your model against the training and test datasets. As you should observe, there's a gap between the results. By validating your model, you should be able to better anticipate the test time performance and compare different models and hyperparameters on datasets they are not over-fitted to.\n",
        "\n",
        "Implement the basic validation method, i.e. a random split. Test it with your model from Exercise MSLE."
      ],
      "metadata": {
        "id": "5P1m1Bi1yEs_"
      }
    },
    {
      "cell_type": "code",
      "source": [
        "x_train_val, y_train_val = x_train, y_train\n",
        "x_test, y_test = x_test, y_test\n",
        "\n",
        "\n",
        "def random_split(\n",
        "    x: NDArray, y: NDArray, val_ratio: float = 0.2\n",
        ") -> tuple[tuple[NDArray, NDArray], tuple[NDArray, NDArray]]:\n",
        "    \"\"\"Returns (x_train, y_train), (x_val, y_val).\"\"\"\n",
        "\n",
        "    idxs = np.random.permutation(len(x))\n",
        "\n",
        "    ######################################################\n",
        "    # TODO: Implement the basic validation split method. #\n",
        "    ######################################################\n",
        "\n",
        "\n",
        "\n",
        "\n",
        "(x_train, y_train), (x_val, y_val) = random_split(x_train_val, y_train_val)\n",
        "\n",
        "len(x_train), len(x_val), len(x_test)"
      ],
      "metadata": {
        "colab": {
          "base_uri": "https://localhost:8080/"
        },
        "id": "YLvtN4Puxwu3",
        "outputId": "2324b9a7-4ee0-4e9b-8c0d-63998e4a4edc"
      },
      "execution_count": null,
      "outputs": [
        {
          "output_type": "execute_result",
          "data": {
            "text/plain": [
              "(160, 40, 200)"
            ]
          },
          "metadata": {},
          "execution_count": 23
        }
      ]
    },
    {
      "cell_type": "code",
      "source": [
        "#############################################################\n",
        "# TODO: compare MSLE on training, validation, and test sets #\n",
        "#############################################################"
      ],
      "metadata": {
        "id": "CMc4r9oWHSZN"
      },
      "execution_count": null,
      "outputs": []
    },
    {
      "cell_type": "markdown",
      "source": [
        "## Cross-validation"
      ],
      "metadata": {
        "id": "LImWR9ki69T7"
      }
    },
    {
      "cell_type": "markdown",
      "source": [
        "To make the random split validation reliable, a significant chunk of training data may be needed. To get over this problem, one may apply cross-validation.\n",
        "\n",
        "![alt-text](https://chrisjmccormick.files.wordpress.com/2013/07/10_fold_cv.png)\n",
        "\n",
        "Let's now implement the method. Make sure that:\n",
        "* number of partitions is a parameter,\n",
        "* the method is not limited to `mieszkania.csv`,\n",
        "* the method is not limited to one specific model."
      ],
      "metadata": {
        "id": "sWX_Soa25XJb"
      }
    },
    {
      "cell_type": "code",
      "source": [
        "####################################\n",
        "# TODO: Implement cross-validation #\n",
        "####################################\n",
        "def kfold(x: NDArray, y: NDArray, n_folds: int = 5, shuffle: bool = False) -> list[float]:\n",
        "    \"\"\"Returns losses for each fold.\"\"\"\n",
        "\n",
        "\n",
        "\n",
        "losses = kfold(x_train_val, y_train_val, n_folds=3, shuffle=False)\n",
        "print(f\"k-fold loss: {np.mean(losses):.4f} +- {np.std(losses):.4f}\")\n"
      ],
      "metadata": {
        "id": "ma_OGKv80rln"
      },
      "execution_count": null,
      "outputs": []
    },
    {
      "cell_type": "markdown",
      "source": [
        "## Investigating input data"
      ],
      "metadata": {
        "id": "Rd7h-hJl7Q_3"
      }
    },
    {
      "cell_type": "markdown",
      "source": [
        "Recall that sometimes validation may be tricky, e.g. significant class imbalance, having a small number of subjects, geographically clustered instances...\n",
        "\n",
        "What could in theory go wrong here with random, unstratified partitions? Think about potential solutions and investigate the data in order to check whether these problems arise here."
      ],
      "metadata": {
        "id": "jFeQiTQc7Rid"
      }
    },
    {
      "cell_type": "code",
      "source": [
        "##############################\n",
        "# TODO: Investigate the data #\n",
        "##############################"
      ],
      "metadata": {
        "id": "1JQKK6wZ7SAi"
      },
      "execution_count": null,
      "outputs": []
    }
  ]
}